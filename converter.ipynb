{
 "cells": [
  {
   "cell_type": "markdown",
   "metadata": {},
   "source": [
    "# Converter tf model to accelerator"
   ]
  },
  {
   "cell_type": "code",
   "execution_count": null,
   "metadata": {},
   "outputs": [],
   "source": [
    "# Example using MNIST\n",
    "\n",
    "import tensorflow as tf\n",
    "from tensorflow.keras import layers, models\n",
    "import matplotlib.pyplot as plt\n",
    "import numpy as np\n",
    "\n",
    "mnist = tf.keras.datasets.mnist\n",
    "(x_train, y_train), (x_test, y_test) = mnist.load_data()\n",
    "mean = np.mean(x_train)\n",
    "std = np.std(x_train)\n",
    "x_train = (x_train - mean) / std\n",
    "x_test = (x_test - mean) / std\n",
    "\n",
    "x_train = x_train.reshape(-1, 28, 28, 1)\n",
    "x_test = x_test.reshape(-1, 28, 28, 1)\n",
    "\n",
    "model = models.Sequential([\n",
    "    layers.Conv2D(3, (3, 3), activation='relu', input_shape=(28, 28, 1)),\n",
    "    layers.Conv2D(4, (3, 3), activation='relu'),\n",
    "    layers.Conv2D(4, (3, 3), activation='relu'),\n",
    "    layers.Conv2D(3, (3, 3), activation='relu'),\n",
    "    layers.Flatten(),\n",
    "    layers.Dense(10, activation='relu'),\n",
    "    layers.Dense(10, activation='softmax')\n",
    "])\n",
    "\n",
    "model.compile(optimizer='adam',\n",
    "              loss='sparse_categorical_crossentropy',\n",
    "              metrics=['accuracy'])\n",
    "model.summary()"
   ]
  },
  {
   "cell_type": "code",
   "execution_count": null,
   "metadata": {},
   "outputs": [],
   "source": [
    "# Training as usual\n",
    "model.fit(x_train, y_train, epochs=30, batch_size=64, validation_data=(x_test, y_test))\n",
    "\n",
    "test_loss, test_acc = model.evaluate(x_test, y_test)\n",
    "print(f'Test accuracy: {test_acc}')"
   ]
  },
  {
   "cell_type": "code",
   "execution_count": null,
   "metadata": {},
   "outputs": [],
   "source": [
    "# Tflite quantization\n",
    "\n",
    "def representative_dataset():\n",
    "    for i in range(1000):\n",
    "      yield [np.expand_dims(x_train[i].astype(np.float32) + np.random.normal(loc=2,scale=1,size=(28,28,1)).astype(np.float32), axis=0)]\n",
    "\n",
    "converter = tf.lite.TFLiteConverter.from_keras_model(model)\n",
    "\n",
    "converter.optimizations = [tf.lite.Optimize.DEFAULT]\n",
    "converter.representative_dataset = representative_dataset\n",
    "converter.target_spec.supported_ops = [tf.lite.OpsSet.TFLITE_BUILTINS_INT8]\n",
    "converter.inference_input_type = tf.int8  \n",
    "converter.inference_output_type = tf.int8  \n",
    "tflite_quant_mnist = converter.convert()\n",
    "\n",
    "with open('cnn_mnist.tflite', 'wb') as f:\n",
    "    f.write(tflite_quant_mnist)\n",
    "\n",
    "\n",
    "interpreter = tf.lite.Interpreter(model_content = tflite_quant_mnist)\n",
    "interpreter.allocate_tensors()\n",
    "\n",
    "input_scale = interpreter.get_input_details()[0]['quantization_parameters']['scales']\n",
    "bias_input = interpreter.get_input_details()[0]['quantization_parameters']['zero_points']\n",
    "\n",
    "output_scale = interpreter.get_output_details()[0]['quantization_parameters']['scales']\n",
    "bias_output = interpreter.get_output_details()[0]['quantization_parameters']['zero_points']\n",
    "\n",
    "i = 120\n",
    "output = interpreter.get_output_details()[0]  \n",
    "input = interpreter.get_input_details()[0]  \n",
    "\n",
    "input_data = tf.constant( tf.cast( x_test[i] / input_scale + bias_input, tf.int8), shape=[1, 28, 28, 1])\n",
    "interpreter.set_tensor(input['index'], input_data)\n",
    "interpreter.invoke()\n",
    "output = interpreter.get_tensor(output['index'])\n",
    "print((output - bias_output)*output_scale)\n",
    "print(np.argmax((output - bias_output)*output_scale))\n",
    "print(y_test[i])"
   ]
  },
  {
   "cell_type": "code",
   "execution_count": 28,
   "metadata": {},
   "outputs": [
    {
     "name": "stdout",
     "output_type": "stream",
     "text": [
      "digit: 6\n"
     ]
    }
   ],
   "source": [
    "# Conversion to accelerator\n",
    "\n",
    "import helper as hp\n",
    "\n",
    "i = 123\n",
    "ifmap = x_test[i,:,:,:]\n",
    "cnn_layers_amount = 4\n",
    "fc_layers_amount = 2\n",
    "hp.convert_model(ifmap, cnn_layers_amount, fc_layers_amount, model, interpreter)\n",
    "print('digit:', y_test[i])"
   ]
  },
  {
   "cell_type": "code",
   "execution_count": 29,
   "metadata": {},
   "outputs": [
    {
     "data": {
      "text/plain": [
       "<matplotlib.image.AxesImage at 0x7fdf0c908750>"
      ]
     },
     "execution_count": 29,
     "metadata": {},
     "output_type": "execute_result"
    },
    {
     "data": {
      "image/png": "[encoded data removed]",
      "text/plain": [
       "<Figure size 640x480 with 1 Axes>"
      ]
     },
     "metadata": {},
     "output_type": "display_data"
    }
   ],
   "source": [
    "plt.imshow(x_test[i], cmap='gray')"
   ]
  }
 ],
 "metadata": {
  "kernelspec": {
   "display_name": "myvenv",
   "language": "python",
   "name": "python3"
  },
  "language_info": {
   "codemirror_mode": {
    "name": "ipython",
    "version": 3
   },
   "file_extension": ".py",
   "mimetype": "text/x-python",
   "name": "python",
   "nbconvert_exporter": "python",
   "pygments_lexer": "ipython3",
   "version": "3.11.6"
  }
 },
 "nbformat": 4,
 "nbformat_minor": 2
}
